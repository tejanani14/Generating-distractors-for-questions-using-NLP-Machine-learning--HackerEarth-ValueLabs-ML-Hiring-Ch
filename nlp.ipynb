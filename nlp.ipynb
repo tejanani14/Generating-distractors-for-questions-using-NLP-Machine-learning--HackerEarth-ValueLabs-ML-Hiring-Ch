{
  "nbformat": 4,
  "nbformat_minor": 0,
  "metadata": {
    "colab": {
      "name": "nlp.ipynb",
      "provenance": [],
      "collapsed_sections": [],
      "include_colab_link": true
    },
    "kernelspec": {
      "name": "python3",
      "display_name": "Python 3"
    }
  },
  "cells": [
    {
      "cell_type": "markdown",
      "metadata": {
        "id": "view-in-github",
        "colab_type": "text"
      },
      "source": [
        "<a href=\"https://colab.research.google.com/github/panditrahulsharma/Generating-distractors-for-questions-using-NLP-Machine-learning--HackerEarth-ValueLabs-ML-Hiring-Ch/blob/master/nlp.ipynb\" target=\"_parent\"><img src=\"https://colab.research.google.com/assets/colab-badge.svg\" alt=\"Open In Colab\"/></a>"
      ]
    },
    {
      "cell_type": "code",
      "metadata": {
        "id": "aa0D1uhc9-ok",
        "colab_type": "code",
        "colab": {}
      },
      "source": [
        "#import zipfile\n",
        "#zip_ref = zipfile.ZipFile(\"/content/drive/My Drive/Generating distractors for questions /p.zip\", 'r')\n",
        "#zip_ref.extractall(\"/content/drive/My Drive/Generating distractors for questions /\")\n",
        "#zip_ref.close()\n",
        "import zipfile\n",
        "from google.colab import drive\n",
        "drive.mount('/content/drive/')"
      ],
      "execution_count": 0,
      "outputs": []
    },
    {
      "cell_type": "code",
      "metadata": {
        "id": "impTVAo4_TFX",
        "colab_type": "code",
        "colab": {}
      },
      "source": [
        "import os\n",
        "os.getcwd()\n",
        "os.chdir('/content/drive/My Drive/Generating distractors for questions /')"
      ],
      "execution_count": 0,
      "outputs": []
    },
    {
      "cell_type": "code",
      "metadata": {
        "id": "KhqkJsjZA6mc",
        "colab_type": "code",
        "colab": {}
      },
      "source": [
        "import numpy as np\n",
        "import pandas as pd\n",
        "df_train=pd.read_csv(\"Train.csv\")\n",
        "df_test=pd.read_csv(\"Test.csv\")"
      ],
      "execution_count": 0,
      "outputs": []
    }
  ]
}